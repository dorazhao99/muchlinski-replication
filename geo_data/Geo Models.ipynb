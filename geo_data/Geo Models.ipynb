{
 "cells": [
  {
   "cell_type": "code",
   "execution_count": 1,
   "metadata": {},
   "outputs": [
    {
     "name": "stderr",
     "output_type": "stream",
     "text": [
      "/Library/Frameworks/Python.framework/Versions/3.5/lib/python3.5/site-packages/sklearn/ensemble/weight_boosting.py:29: DeprecationWarning: numpy.core.umath_tests is an internal NumPy module and should not be imported. It will be removed in a future NumPy release.\n",
      "  from numpy.core.umath_tests import inner1d\n"
     ]
    }
   ],
   "source": [
    "from sklearn.linear_model import LogisticRegression\n",
    "from sklearn.ensemble import RandomForestClassifier\n",
    "import csv\n",
    "import numpy as np"
   ]
  },
  {
   "cell_type": "markdown",
   "metadata": {},
   "source": [
    "### Data Setup"
   ]
  },
  {
   "cell_type": "code",
   "execution_count": 9,
   "metadata": {},
   "outputs": [],
   "source": [
    "all_continents = ['afr', 'am', 'asia', 'eur', 'me']\n",
    "all_data = {}\n",
    "\n",
    "feature_names = [\"warstds\", \"ager\", \"agexp\", \"anoc\", \"army85\", \"autch98\", \"auto4\",\n",
    "\"autonomy\", \"avgnabo\", \"centpol3\", \"coldwar\", \"decade1\", \"decade2\",\n",
    "\"decade3\", \"decade4\", \"dem\", \"dem4\", \"demch98\", \"dlang\", \"drel\",\n",
    "\"durable\", \"ef\", \"ef2\", \"ehet\", \"elfo\", \"elfo2\", \"etdo4590\",\n",
    "\"expgdp\", \"exrec\", \"fedpol3\", \"fuelexp\", \"gdpgrowth\", \"geo1\", \"geo2\",\n",
    "\"geo34\", \"geo57\", \"geo69\", \"geo8\", \"illiteracy\", \"incumb\", \"infant\",\n",
    "\"inst\", \"inst3\", \"life\", \"lmtnest\", \"ln_gdpen\", \"lpopns\", \"major\", \"manuexp\", \"milper\",\n",
    "\"mirps0\", \"mirps1\", \"mirps2\", \"mirps3\", \"nat_war\", \"ncontig\",\n",
    "\"nmgdp\", \"nmdp4_alt\", \"numlang\", \"nwstate\", \"oil\", \"p4mchg\",\n",
    "\"parcomp\", \"parreg\", \"part\", \"partfree\", \"plural\", \"plurrel\",\n",
    "\"pol4\", \"pol4m\", \"pol4sq\", \"polch98\", \"polcomp\", \"popdense\",\n",
    "\"presi\", \"pri\", \"proxregc\", \"ptime\", \"reg\", \"regd4_alt\", \"relfrac\", \"seceduc\",\n",
    "\"second\", \"semipol3\", \"sip2\", \"sxpnew\", \"sxpsq\", \"tnatwar\", \"trade\",\n",
    "\"warhist\", \"xconst\"]\n",
    "\n",
    "for cont in all_continents:\n",
    "    for ver in ['tr', 'test']:\n",
    "        data = []\n",
    "        names = []\n",
    "        with open('{0}_{1}.csv'.format(cont, ver), newline='') as csvfile:\n",
    "            reader = csv.reader(csvfile, delimiter=',', quotechar='|')\n",
    "            for i, row in enumerate(reader):\n",
    "                if i == 0:\n",
    "                    names = row\n",
    "                else:\n",
    "                    data.append(row)\n",
    "        data = np.array(data)\n",
    "        feature_indices = [names.index(feat) for feat in feature_names[1:]]\n",
    "        features = data[:, feature_indices]\n",
    "        features = features.astype(float)\n",
    "        labels = data[:, names.index('warstds')]\n",
    "        labels = [int(float(label)) for label in labels]\n",
    "        all_data['{0}_{1}'.format(cont, ver)] = [features, labels]\n",
    "        "
   ]
  },
  {
   "cell_type": "markdown",
   "metadata": {},
   "source": [
    "### Exp 1: Train on all continents, disaggregated test results on each continent"
   ]
  },
  {
   "cell_type": "code",
   "execution_count": 12,
   "metadata": {},
   "outputs": [
    {
     "name": "stdout",
     "output_type": "stream",
     "text": [
      "Training Scores for Logistic Regression: 0.981994459833795, Random Forest: 0.9875346260387812\n",
      "\n",
      "Test on eur, LR: 0.98999, RF: 0.99312\n",
      "Test on me, LR: 0.98199, RF: 0.98753\n",
      "Test on afr, LR: 0.61613, RF: 0.964\n",
      "Test on am, LR: 0.8339, RF: 0.98109\n",
      "Test on asia, LR: 0.80673, RF: 0.97438\n"
     ]
    }
   ],
   "source": [
    "# train on all data\n",
    "all_train_features = []\n",
    "all_train_labels = []\n",
    "for key in all_data.keys():\n",
    "    if 'tr' in key:\n",
    "        all_train_features.append(all_data[key][0])\n",
    "        all_train_labels.append(all_data[key][1])\n",
    "all_train_features = np.concatenate(all_train_features, axis=0)\n",
    "all_train_labels = np.concatenate(all_train_labels, axis=0)\n",
    "\n",
    "log_reg = LogisticRegression().fit(features, labels)\n",
    "log_reg_score = log_reg.score(features, labels)\n",
    "rdm_for = RandomForestClassifier(max_depth=5).fit(features, labels)\n",
    "rdm_for_score = rdm_for.score(features, labels)\n",
    "print(\"Training Scores for Logistic Regression: {0}, Random Forest: {1}\\n\".format(log_reg_score, rdm_for_score))\n",
    "\n",
    "for key in all_data.keys():\n",
    "    if 'test' in key:\n",
    "        test_features = all_data[key][0]\n",
    "        test_labels = all_data[key][1]\n",
    "        log_reg_score = log_reg.score(test_features, test_labels)\n",
    "        rdm_for_score = rdm_for.score(test_features, test_labels)\n",
    "        print(\"Test on {0}, LR: {1}, RF: {2}\".format(key.split('_')[0], round(log_reg_score, 5), round(rdm_for_score, 5)))"
   ]
  },
  {
   "cell_type": "markdown",
   "metadata": {},
   "source": [
    "### Exp 2: Train on all continents except for x, and then test on x"
   ]
  },
  {
   "cell_type": "code",
   "execution_count": 16,
   "metadata": {},
   "outputs": [
    {
     "name": "stdout",
     "output_type": "stream",
     "text": [
      "Extrap to eur, LR: 0.99312, RF: 0.98874\n",
      "Extrap to me, LR: 0.98199, RF: 0.99169\n",
      "Extrap to afr, LR: 0.60345, RF: 0.90314\n",
      "Extrap to am, LR: 0.82647, RF: 0.97434\n",
      "Extrap to asia, LR: 0.80893, RF: 0.94217\n"
     ]
    }
   ],
   "source": [
    "for key in all_data.keys():\n",
    "    if 'test' in key:\n",
    "        cont = key.split('_')[0]\n",
    "        \n",
    "        train_continents = all_continents.copy()\n",
    "        train_continents.remove(cont)\n",
    "        all_train_features = []\n",
    "        all_train_labels = []\n",
    "        for t_cont in train_continents:\n",
    "            all_train_features.append(all_data['{0}_tr'.format(t_cont)][0])\n",
    "            all_train_labels.append(all_data['{0}_tr'.format(t_cont)][1])\n",
    "        all_train_features = np.concatenate(all_train_features, axis=0)\n",
    "        all_train_labels = np.concatenate(all_train_labels, axis=0)\n",
    "\n",
    "        log_reg = LogisticRegression().fit(features, labels)\n",
    "        rdm_for = RandomForestClassifier(max_depth=5).fit(features, labels)\n",
    "        \n",
    "        test_features = all_data[key][0]\n",
    "        test_labels = all_data[key][1]\n",
    "        log_reg_score = log_reg.score(test_features, test_labels)\n",
    "        rdm_for_score = rdm_for.score(test_features, test_labels)\n",
    "        \n",
    "        print(\"Extrap to {0}, LR: {1}, RF: {2}\".format(cont, round(log_reg_score, 5), round(rdm_for_score, 5)))"
   ]
  },
  {
   "cell_type": "code",
   "execution_count": null,
   "metadata": {},
   "outputs": [],
   "source": []
  }
 ],
 "metadata": {
  "kernelspec": {
   "display_name": "Python 3",
   "language": "python",
   "name": "python3"
  },
  "language_info": {
   "codemirror_mode": {
    "name": "ipython",
    "version": 3
   },
   "file_extension": ".py",
   "mimetype": "text/x-python",
   "name": "python",
   "nbconvert_exporter": "python",
   "pygments_lexer": "ipython3",
   "version": "3.5.2"
  }
 },
 "nbformat": 4,
 "nbformat_minor": 2
}

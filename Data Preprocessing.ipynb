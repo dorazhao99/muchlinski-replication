{
 "cells": [
  {
   "cell_type": "code",
   "execution_count": 18,
   "metadata": {},
   "outputs": [],
   "source": [
    "import pandas as pd\n",
    "import csv"
   ]
  },
  {
   "cell_type": "code",
   "execution_count": 19,
   "metadata": {},
   "outputs": [
    {
     "output_type": "execute_result",
     "data": {
      "text/plain": [
       "   cowcode  year  warstds  ptime  yrint  autonomy         rf    popdense  \\\n",
       "0      700  1945        0     12      0  0.005151  35.481968  118.554791   \n",
       "1      700  1946        0     24      1  0.000000  35.419919  117.756342   \n",
       "2      700  1947        0     36      2  0.000000  35.407984  118.280656   \n",
       "3      700  1948        0     48      3  0.000000  35.429719  118.325869   \n",
       "4      700  1949        0     60      4  0.000000  35.400103  118.312296   \n",
       "\n",
       "     auto98     dem98  ...  decade1  decade2  decade3  decade4  independ  \\\n",
       "0  3.963861  3.975114  ...        0        0        0        0         1   \n",
       "1  3.964334  3.951079  ...        0        0        0        0         1   \n",
       "2  3.973155  3.940862  ...        0        0        0        0         1   \n",
       "3  3.982209  3.929385  ...        0        0        0        0         1   \n",
       "4  3.973679  3.949860  ...        0        0        0        0         1   \n",
       "\n",
       "    tip  anocracy  proxregc  sxpnew.2   sxpsq.2  \n",
       "0  17.0         0  0.143299  0.094095  0.094095  \n",
       "1  18.0         0  1.000000  0.094547  0.094547  \n",
       "2  19.0         0  1.000000  0.095567  0.095567  \n",
       "3  20.0         0  1.000000  0.101303  0.101303  \n",
       "4  21.0         0  1.000000  0.092107  0.092107  \n",
       "\n",
       "[5 rows x 281 columns]"
      ],
      "text/html": "<div>\n<style scoped>\n    .dataframe tbody tr th:only-of-type {\n        vertical-align: middle;\n    }\n\n    .dataframe tbody tr th {\n        vertical-align: top;\n    }\n\n    .dataframe thead th {\n        text-align: right;\n    }\n</style>\n<table border=\"1\" class=\"dataframe\">\n  <thead>\n    <tr style=\"text-align: right;\">\n      <th></th>\n      <th>cowcode</th>\n      <th>year</th>\n      <th>warstds</th>\n      <th>ptime</th>\n      <th>yrint</th>\n      <th>autonomy</th>\n      <th>rf</th>\n      <th>popdense</th>\n      <th>auto98</th>\n      <th>dem98</th>\n      <th>...</th>\n      <th>decade1</th>\n      <th>decade2</th>\n      <th>decade3</th>\n      <th>decade4</th>\n      <th>independ</th>\n      <th>tip</th>\n      <th>anocracy</th>\n      <th>proxregc</th>\n      <th>sxpnew.2</th>\n      <th>sxpsq.2</th>\n    </tr>\n  </thead>\n  <tbody>\n    <tr>\n      <th>0</th>\n      <td>700</td>\n      <td>1945</td>\n      <td>0</td>\n      <td>12</td>\n      <td>0</td>\n      <td>0.005151</td>\n      <td>35.481968</td>\n      <td>118.554791</td>\n      <td>3.963861</td>\n      <td>3.975114</td>\n      <td>...</td>\n      <td>0</td>\n      <td>0</td>\n      <td>0</td>\n      <td>0</td>\n      <td>1</td>\n      <td>17.0</td>\n      <td>0</td>\n      <td>0.143299</td>\n      <td>0.094095</td>\n      <td>0.094095</td>\n    </tr>\n    <tr>\n      <th>1</th>\n      <td>700</td>\n      <td>1946</td>\n      <td>0</td>\n      <td>24</td>\n      <td>1</td>\n      <td>0.000000</td>\n      <td>35.419919</td>\n      <td>117.756342</td>\n      <td>3.964334</td>\n      <td>3.951079</td>\n      <td>...</td>\n      <td>0</td>\n      <td>0</td>\n      <td>0</td>\n      <td>0</td>\n      <td>1</td>\n      <td>18.0</td>\n      <td>0</td>\n      <td>1.000000</td>\n      <td>0.094547</td>\n      <td>0.094547</td>\n    </tr>\n    <tr>\n      <th>2</th>\n      <td>700</td>\n      <td>1947</td>\n      <td>0</td>\n      <td>36</td>\n      <td>2</td>\n      <td>0.000000</td>\n      <td>35.407984</td>\n      <td>118.280656</td>\n      <td>3.973155</td>\n      <td>3.940862</td>\n      <td>...</td>\n      <td>0</td>\n      <td>0</td>\n      <td>0</td>\n      <td>0</td>\n      <td>1</td>\n      <td>19.0</td>\n      <td>0</td>\n      <td>1.000000</td>\n      <td>0.095567</td>\n      <td>0.095567</td>\n    </tr>\n    <tr>\n      <th>3</th>\n      <td>700</td>\n      <td>1948</td>\n      <td>0</td>\n      <td>48</td>\n      <td>3</td>\n      <td>0.000000</td>\n      <td>35.429719</td>\n      <td>118.325869</td>\n      <td>3.982209</td>\n      <td>3.929385</td>\n      <td>...</td>\n      <td>0</td>\n      <td>0</td>\n      <td>0</td>\n      <td>0</td>\n      <td>1</td>\n      <td>20.0</td>\n      <td>0</td>\n      <td>1.000000</td>\n      <td>0.101303</td>\n      <td>0.101303</td>\n    </tr>\n    <tr>\n      <th>4</th>\n      <td>700</td>\n      <td>1949</td>\n      <td>0</td>\n      <td>60</td>\n      <td>4</td>\n      <td>0.000000</td>\n      <td>35.400103</td>\n      <td>118.312296</td>\n      <td>3.973679</td>\n      <td>3.949860</td>\n      <td>...</td>\n      <td>0</td>\n      <td>0</td>\n      <td>0</td>\n      <td>0</td>\n      <td>1</td>\n      <td>21.0</td>\n      <td>0</td>\n      <td>1.000000</td>\n      <td>0.092107</td>\n      <td>0.092107</td>\n    </tr>\n  </tbody>\n</table>\n<p>5 rows × 281 columns</p>\n</div>"
     },
     "metadata": {},
     "execution_count": 19
    }
   ],
   "source": [
    "df = pd.read_csv('SambanisImp.csv')\n",
    "cols = list(df.columns)\n",
    "df.head()"
   ]
  },
  {
   "cell_type": "markdown",
   "metadata": {},
   "source": [
    "## Geographic Extension"
   ]
  },
  {
   "cell_type": "code",
   "execution_count": 20,
   "metadata": {},
   "outputs": [],
   "source": [
    "cow_df = pd.read_csv('cow.csv')\n",
    "geo_codes = {}\n",
    "\n",
    "for index, row in cow_df.iterrows():\n",
    "    region = row['region']\n",
    "    if region not in geo_codes:\n",
    "        geo_codes[region] = [row['cow']]\n",
    "    else:\n",
    "        geo_codes[region].append(row['cow'])"
   ]
  },
  {
   "cell_type": "markdown",
   "metadata": {},
   "source": [
    "### Africa"
   ]
  },
  {
   "cell_type": "code",
   "execution_count": 21,
   "metadata": {},
   "outputs": [],
   "source": [
    "afr_cow = geo_codes['AFR']\n",
    "with open('afr_tr.csv', mode='w') as csv_tr, open('afr_test.csv', mode='w') as csv_test:\n",
    "        tr_writer = csv.writer(csv_tr)\n",
    "        test_writer = csv.writer(csv_test)\n",
    "        tr_writer.writerow(cols)\n",
    "        test_writer.writerow(cols)\n",
    "        for index, row in df.iterrows():\n",
    "            cow = row['cowcode']\n",
    "            if cow not in afr_cow:\n",
    "                tr_writer.writerow(row)\n",
    "            else:\n",
    "                test_writer.writerow(row)"
   ]
  },
  {
   "cell_type": "markdown",
   "metadata": {},
   "source": [
    "### Middle East"
   ]
  },
  {
   "cell_type": "code",
   "execution_count": 22,
   "metadata": {},
   "outputs": [],
   "source": [
    "me_cow = geo_codes['ME']\n",
    "with open('me_tr.csv', mode='w') as csv_tr, open('me_test.csv', mode='w') as csv_test:\n",
    "        tr_writer = csv.writer(csv_tr)\n",
    "        test_writer = csv.writer(csv_test)\n",
    "        tr_writer.writerow(cols)\n",
    "        test_writer.writerow(cols)\n",
    "        for index, row in df.iterrows():\n",
    "            cow = row['cowcode']\n",
    "            if cow not in me_cow:\n",
    "                tr_writer.writerow(row)\n",
    "            else:\n",
    "                test_writer.writerow(row)"
   ]
  },
  {
   "cell_type": "markdown",
   "metadata": {},
   "source": [
    "### Americas"
   ]
  },
  {
   "cell_type": "code",
   "execution_count": 23,
   "metadata": {},
   "outputs": [],
   "source": [
    "am_cow = geo_codes['CAM'] + geo_codes['SAM'] + geo_codes['NAM']\n",
    "with open('am_tr.csv', mode='w') as csv_tr, open('am_test.csv', mode='w') as csv_test:\n",
    "        tr_writer = csv.writer(csv_tr)\n",
    "        test_writer = csv.writer(csv_test)\n",
    "        tr_writer.writerow(cols)\n",
    "        test_writer.writerow(cols)\n",
    "        for index, row in df.iterrows():\n",
    "            cow = row['cowcode']\n",
    "            if cow not in am_cow:\n",
    "                tr_writer.writerow(row)\n",
    "            else:\n",
    "                test_writer.writerow(row)"
   ]
  },
  {
   "cell_type": "markdown",
   "metadata": {},
   "source": [
    "### Europe"
   ]
  },
  {
   "cell_type": "code",
   "execution_count": 24,
   "metadata": {},
   "outputs": [],
   "source": [
    "eur_cow = geo_codes['EUR']\n",
    "with open('eur_tr.csv', mode='w') as csv_tr, open('eur_test.csv', mode='w') as csv_test:\n",
    "        tr_writer = csv.writer(csv_tr)\n",
    "        test_writer = csv.writer(csv_test)\n",
    "        tr_writer.writerow(cols)\n",
    "        test_writer.writerow(cols)\n",
    "        for index, row in df.iterrows():\n",
    "            cow = row['cowcode']\n",
    "            if cow not in eur_cow:\n",
    "                tr_writer.writerow(row)\n",
    "            else:\n",
    "                test_writer.writerow(row)"
   ]
  },
  {
   "cell_type": "markdown",
   "metadata": {},
   "source": [
    "### Asia and Oceania"
   ]
  },
  {
   "cell_type": "code",
   "execution_count": 25,
   "metadata": {},
   "outputs": [],
   "source": [
    "asia_cow = geo_codes['ASI'] + geo_codes['SEA'] + geo_codes['OCE']\n",
    "with open('asia_tr.csv', mode='w') as csv_tr, open('asia_test.csv', mode='w') as csv_test:\n",
    "        tr_writer = csv.writer(csv_tr)\n",
    "        test_writer = csv.writer(csv_test)\n",
    "        tr_writer.writerow(cols)\n",
    "        test_writer.writerow(cols)\n",
    "        for index, row in df.iterrows():\n",
    "            cow = row['cowcode']\n",
    "            if cow not in asia_cow:\n",
    "                tr_writer.writerow(row)\n",
    "            else:\n",
    "                test_writer.writerow(row)"
   ]
  },
  {
   "cell_type": "markdown",
   "metadata": {},
   "source": [
    "## Temporal Extension"
   ]
  },
  {
   "cell_type": "markdown",
   "metadata": {},
   "source": [
    "### 1945-1965 Test Set"
   ]
  },
  {
   "cell_type": "code",
   "execution_count": 26,
   "metadata": {},
   "outputs": [],
   "source": [
    "with open('1_tr.csv', mode='w') as csv_tr, open('1_test.csv', mode='w') as csv_test:\n",
    "        tr_writer = csv.writer(csv_tr)\n",
    "        test_writer = csv.writer(csv_test)\n",
    "        tr_writer.writerow(cols)\n",
    "        test_writer.writerow(cols)\n",
    "        for index, row in df.iterrows():\n",
    "            year = int(row['year'])\n",
    "            if year >= 1965:\n",
    "                tr_writer.writerow(row)\n",
    "            else:\n",
    "                test_writer.writerow(row)"
   ]
  },
  {
   "cell_type": "markdown",
   "metadata": {},
   "source": [
    "### 1965-1985 Test Set"
   ]
  },
  {
   "cell_type": "code",
   "execution_count": 27,
   "metadata": {},
   "outputs": [],
   "source": [
    "with open('2_tr.csv', mode='w') as csv_tr, open('2_test.csv', mode='w') as csv_test:\n",
    "        tr_writer = csv.writer(csv_tr)\n",
    "        test_writer = csv.writer(csv_test)\n",
    "        tr_writer.writerow(cols)\n",
    "        test_writer.writerow(cols)\n",
    "        for index, row in df.iterrows():\n",
    "            year = int(row['year'])\n",
    "            if year >= 1985 or year < 1965:\n",
    "                tr_writer.writerow(row)\n",
    "            else:\n",
    "                test_writer.writerow(row)"
   ]
  },
  {
   "cell_type": "markdown",
   "metadata": {},
   "source": [
    "### 1985-2000 Test Set"
   ]
  },
  {
   "cell_type": "code",
   "execution_count": 28,
   "metadata": {},
   "outputs": [],
   "source": [
    "with open('3_tr.csv', mode='w') as csv_tr, open('3_test.csv', mode='w') as csv_test:\n",
    "        tr_writer = csv.writer(csv_tr)\n",
    "        test_writer = csv.writer(csv_test)\n",
    "        tr_writer.writerow(cols)\n",
    "        test_writer.writerow(cols)\n",
    "        for index, row in df.iterrows():\n",
    "            year = int(row['year'])\n",
    "            if year < 1985:\n",
    "                tr_writer.writerow(row)\n",
    "            else:\n",
    "                test_writer.writerow(row)"
   ]
  },
  {
   "cell_type": "markdown",
   "metadata": {},
   "source": [
    "### Split by \"Decades\"\n",
    "We split the dataset in \"decades\" (approximately):\n",
    "- 1945-1959\n",
    "- 1960-1969\n",
    "- 1970-1979\n",
    "- 1980-1989\n",
    "- 1990-2000\n",
    "\n",
    "Specifically, we generate the `decade[x]_tr.csv` and `decade[x]_test.csv` files,(`[x]` = {1, 2, 3, 4, 5}). The compositions of these datasets is as follows:\n",
    "- `decade1_tr.csv` is the training set for the temporal experiment 1, \"predicting the past.\" It contains all events, **except** for the ones between 1945-1959.\n",
    "- `decade1_test.csv` is the test set for experiment 1, containing **only** the events that happened between 1945-1959.\n",
    "- `decade2_tr.csv`, `decade3_tr.csv`, and `decade4_tr.csv` are the training sets for experiment 2, \"predicting 'in between' timeframes.\" They contain all events, **except** for the ones in the 1960s, in the 1970s, and in the 1980s, respectively.\n",
    "- `decade2_test.csv`, `decade3_test.csv`, and `decade4_test.csv` are the test sets for experiment 2, containing **only** the events that happened in the 1960s, the 1970s, and the 1980s, respectively.\n",
    "- `decade5_tr.csv` is the training set for experiment 3, \"predicting the future.\" It contains all events, **except** for the ones in 1990-2000.\n",
    "- `decade5_test.csv` is the test set for experiment 3, containing **only** the events that happened in 1990-2000."
   ]
  },
  {
   "cell_type": "code",
   "execution_count": 49,
   "metadata": {},
   "outputs": [],
   "source": [
    "with open('decade1_tr.csv', mode='w') as csv_tr, open('decade1_test.csv', mode='w') as csv_test:\n",
    "        tr_writer = csv.writer(csv_tr)\n",
    "        test_writer = csv.writer(csv_test)\n",
    "        tr_writer.writerow(cols)\n",
    "        test_writer.writerow(cols)\n",
    "        for index, row in df.iterrows():\n",
    "            year = int(row['year'])\n",
    "            if year <= 1959 and year >= 1945:\n",
    "                test_writer.writerow(row)\n",
    "            else:\n",
    "                tr_writer.writerow(row)"
   ]
  },
  {
   "cell_type": "code",
   "execution_count": 50,
   "metadata": {},
   "outputs": [],
   "source": [
    "with open('decade2_tr.csv', mode='w') as csv_tr, open('decade2_test.csv', mode='w') as csv_test:\n",
    "        tr_writer = csv.writer(csv_tr)\n",
    "        test_writer = csv.writer(csv_test)\n",
    "        tr_writer.writerow(cols)\n",
    "        test_writer.writerow(cols)\n",
    "        for index, row in df.iterrows():\n",
    "            year = int(row['year'])\n",
    "            if year <= 1969 and year >= 1960:\n",
    "                test_writer.writerow(row)\n",
    "            else:\n",
    "                tr_writer.writerow(row)"
   ]
  },
  {
   "cell_type": "code",
   "execution_count": 51,
   "metadata": {},
   "outputs": [],
   "source": [
    "with open('decade3_tr.csv', mode='w') as csv_tr, open('decade3_test.csv', mode='w') as csv_test:\n",
    "        tr_writer = csv.writer(csv_tr)\n",
    "        test_writer = csv.writer(csv_test)\n",
    "        tr_writer.writerow(cols)\n",
    "        test_writer.writerow(cols)\n",
    "        for index, row in df.iterrows():\n",
    "            year = int(row['year'])\n",
    "            if year <= 1979 and year >= 1970:\n",
    "                test_writer.writerow(row)\n",
    "            else:\n",
    "                tr_writer.writerow(row)"
   ]
  },
  {
   "cell_type": "code",
   "execution_count": 52,
   "metadata": {},
   "outputs": [],
   "source": [
    "with open('decade4_tr.csv', mode='w') as csv_tr, open('decade4_test.csv', mode='w') as csv_test:\n",
    "        tr_writer = csv.writer(csv_tr)\n",
    "        test_writer = csv.writer(csv_test)\n",
    "        tr_writer.writerow(cols)\n",
    "        test_writer.writerow(cols)\n",
    "        for index, row in df.iterrows():\n",
    "            year = int(row['year'])\n",
    "            if year <= 1989 and year >= 1980:\n",
    "                test_writer.writerow(row)\n",
    "            else:\n",
    "                tr_writer.writerow(row)"
   ]
  },
  {
   "cell_type": "code",
   "execution_count": 53,
   "metadata": {},
   "outputs": [],
   "source": [
    "with open('decade5_tr.csv', mode='w') as csv_tr, open('decade5_test.csv', mode='w') as csv_test:\n",
    "        tr_writer = csv.writer(csv_tr)\n",
    "        test_writer = csv.writer(csv_test)\n",
    "        tr_writer.writerow(cols)\n",
    "        test_writer.writerow(cols)\n",
    "        for index, row in df.iterrows():\n",
    "            year = int(row['decade4'])\n",
    "            if year == 1:\n",
    "                test_writer.writerow(row)\n",
    "            else:\n",
    "                tr_writer.writerow(row)"
   ]
  },
  {
   "cell_type": "code",
   "execution_count": null,
   "metadata": {},
   "outputs": [],
   "source": []
  }
 ],
 "metadata": {
  "kernelspec": {
   "display_name": "Python 3",
   "language": "python",
   "name": "python3"
  },
  "language_info": {
   "codemirror_mode": {
    "name": "ipython",
    "version": 3
   },
   "file_extension": ".py",
   "mimetype": "text/x-python",
   "name": "python",
   "nbconvert_exporter": "python",
   "pygments_lexer": "ipython3",
   "version": "3.7.7-final"
  }
 },
 "nbformat": 4,
 "nbformat_minor": 2
}
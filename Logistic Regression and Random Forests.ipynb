{
 "cells": [
  {
   "cell_type": "code",
   "execution_count": 49,
   "metadata": {},
   "outputs": [],
   "source": [
    "from sklearn.linear_model import LogisticRegression\n",
    "from sklearn.ensemble import RandomForestClassifier\n",
    "import csv\n",
    "import numpy as np\n",
    "from sklearn.metrics import f1_score"
   ]
  },
  {
   "cell_type": "code",
   "execution_count": 56,
   "metadata": {},
   "outputs": [
    {
     "name": "stdout",
     "output_type": "stream",
     "text": [
      "Label distribution: (array([0, 1]), array([7024,  116]))\n"
     ]
    }
   ],
   "source": [
    "# Set up training data and training labels\n",
    "all_data = []\n",
    "names = []\n",
    "with open('SambanisImp.csv', newline='') as csvfile:\n",
    "    reader = csv.reader(csvfile, delimiter=',', quotechar='|')\n",
    "    for i, row in enumerate(reader):\n",
    "        if i == 0:\n",
    "            names = row\n",
    "        else:\n",
    "            all_data.append(row)\n",
    "all_data = np.array(all_data) # (7140, 281)\n",
    "\n",
    "feature_names = [\"warstds\", \"ager\", \"agexp\", \"anoc\", \"army85\", \"autch98\", \"auto4\",\n",
    "\"autonomy\", \"avgnabo\", \"centpol3\", \"coldwar\", \"decade1\", \"decade2\",\n",
    "\"decade3\", \"decade4\", \"dem\", \"dem4\", \"demch98\", \"dlang\", \"drel\",\n",
    "\"durable\", \"ef\", \"ef2\", \"ehet\", \"elfo\", \"elfo2\", \"etdo4590\",\n",
    "\"expgdp\", \"exrec\", \"fedpol3\", \"fuelexp\", \"gdpgrowth\", \"geo1\", \"geo2\",\n",
    "\"geo34\", \"geo57\", \"geo69\", \"geo8\", \"illiteracy\", \"incumb\", \"infant\",\n",
    "\"inst\", \"inst3\", \"life\", \"lmtnest\", \"ln_gdpen\", \"lpopns\", \"major\", \"manuexp\", \"milper\",\n",
    "\"mirps0\", \"mirps1\", \"mirps2\", \"mirps3\", \"nat_war\", \"ncontig\",\n",
    "\"nmgdp\", \"nmdp4_alt\", \"numlang\", \"nwstate\", \"oil\", \"p4mchg\",\n",
    "\"parcomp\", \"parreg\", \"part\", \"partfree\", \"plural\", \"plurrel\",\n",
    "\"pol4\", \"pol4m\", \"pol4sq\", \"polch98\", \"polcomp\", \"popdense\",\n",
    "\"presi\", \"pri\", \"proxregc\", \"ptime\", \"reg\", \"regd4_alt\", \"relfrac\", \"seceduc\",\n",
    "\"second\", \"semipol3\", \"sip2\", \"sxpnew\", \"sxpsq\", \"tnatwar\", \"trade\",\n",
    "\"warhist\", \"xconst\"]\n",
    "\n",
    "feature_indices = [names.index(feat) for feat in feature_names[1:]]\n",
    "features = all_data[:, feature_indices] # (7140, 90)\n",
    "features = features.astype(float)\n",
    "labels = all_data[:, names.index('warstds')] # (7140, )\n",
    "labels = [int(label) for label in labels]\n",
    "order = np.arange(len(labels))\n",
    "np.random.shuffle(order)\n",
    "features, labels = np.array(features)[order], np.array(labels)[order]\n",
    "print(\"Label distribution: {}\".format(np.unique(labels, return_counts=True)))"
   ]
  },
  {
   "cell_type": "code",
   "execution_count": 61,
   "metadata": {},
   "outputs": [],
   "source": [
    "val_prop = .3\n",
    "val_split = int(len(features)*val_prop)\n",
    "train_features, val_features = features[val_split:], features[:val_split]\n",
    "train_labels, val_labels = labels[val_split:], labels[:val_split]"
   ]
  },
  {
   "cell_type": "code",
   "execution_count": 63,
   "metadata": {},
   "outputs": [
    {
     "name": "stdout",
     "output_type": "stream",
     "text": [
      "Logistic Regression reg: 0.01, score: 0.08888888888888888\n",
      "Logistic Regression reg: 0.1, score: 0.09320388349514562\n",
      "Logistic Regression reg: 1, score: 0.09163346613545817\n",
      "Logistic Regression reg: 10, score: 0.09406952965235174\n",
      "Logistic Regression reg: 100, score: 0.0945179584120983\n",
      "Logistic Regression reg: 1000, score: 0.09225092250922509\n",
      "\n",
      "Random Forest depth: 1, score: 0.0\n",
      "Random Forest depth: 2, score: 0.0\n",
      "Random Forest depth: 3, score: 0.0\n",
      "Random Forest depth: 4, score: 0.0\n"
     ]
    },
    {
     "name": "stderr",
     "output_type": "stream",
     "text": [
      "/Library/Frameworks/Python.framework/Versions/3.5/lib/python3.5/site-packages/sklearn/metrics/classification.py:1135: UndefinedMetricWarning: F-score is ill-defined and being set to 0.0 due to no predicted samples.\n",
      "  'precision', 'predicted', average, warn_for)\n",
      "/Library/Frameworks/Python.framework/Versions/3.5/lib/python3.5/site-packages/sklearn/metrics/classification.py:1135: UndefinedMetricWarning: F-score is ill-defined and being set to 0.0 due to no predicted samples.\n",
      "  'precision', 'predicted', average, warn_for)\n",
      "/Library/Frameworks/Python.framework/Versions/3.5/lib/python3.5/site-packages/sklearn/metrics/classification.py:1135: UndefinedMetricWarning: F-score is ill-defined and being set to 0.0 due to no predicted samples.\n",
      "  'precision', 'predicted', average, warn_for)\n",
      "/Library/Frameworks/Python.framework/Versions/3.5/lib/python3.5/site-packages/sklearn/metrics/classification.py:1135: UndefinedMetricWarning: F-score is ill-defined and being set to 0.0 due to no predicted samples.\n",
      "  'precision', 'predicted', average, warn_for)\n",
      "/Library/Frameworks/Python.framework/Versions/3.5/lib/python3.5/site-packages/sklearn/metrics/classification.py:1135: UndefinedMetricWarning: F-score is ill-defined and being set to 0.0 due to no predicted samples.\n",
      "  'precision', 'predicted', average, warn_for)\n",
      "/Library/Frameworks/Python.framework/Versions/3.5/lib/python3.5/site-packages/sklearn/metrics/classification.py:1135: UndefinedMetricWarning: F-score is ill-defined and being set to 0.0 due to no predicted samples.\n",
      "  'precision', 'predicted', average, warn_for)\n"
     ]
    },
    {
     "name": "stdout",
     "output_type": "stream",
     "text": [
      "Random Forest depth: 5, score: 0.0\n",
      "Random Forest depth: 6, score: 0.0\n",
      "Random Forest depth: 7, score: 0.13636363636363635\n",
      "Random Forest depth: 8, score: 0.047619047619047616\n",
      "Random Forest depth: 9, score: 0.047619047619047616\n"
     ]
    }
   ],
   "source": [
    "for reg in [.01, .1, 1, 10, 100, 1000]:\n",
    "    log_reg = LogisticRegression(C=reg, class_weight='balanced').fit(train_features, train_labels)\n",
    "#     log_reg_score = log_reg.score(val_features, val_labels)\n",
    "    log_reg_score = f1_score(val_labels, log_reg.predict(val_features))\n",
    "    print(\"Logistic Regression reg: {0}, score: {1}\".format(reg, log_reg_score))\n",
    "print()\n",
    "\n",
    "for depth in np.arange(1, 10):\n",
    "    rdm_for = RandomForestClassifier(max_depth=depth).fit(train_features, train_labels)\n",
    "#     rdm_for_score = rdm_for.score(val_features, val_labels)\n",
    "    rdm_for_score = f1_score(val_labels, rdm_for.predict(val_features))\n",
    "    print(\"Random Forest depth: {0}, score: {1}\".format(depth, rdm_for_score))\n",
    "\n"
   ]
  },
  {
   "cell_type": "code",
   "execution_count": null,
   "metadata": {},
   "outputs": [],
   "source": []
  }
 ],
 "metadata": {
  "kernelspec": {
   "display_name": "Python 3",
   "language": "python",
   "name": "python3"
  },
  "language_info": {
   "codemirror_mode": {
    "name": "ipython",
    "version": 3
   },
   "file_extension": ".py",
   "mimetype": "text/x-python",
   "name": "python",
   "nbconvert_exporter": "python",
   "pygments_lexer": "ipython3",
   "version": "3.5.2"
  }
 },
 "nbformat": 4,
 "nbformat_minor": 2
}

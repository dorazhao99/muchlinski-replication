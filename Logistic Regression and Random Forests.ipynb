{
 "cells": [
  {
   "cell_type": "code",
   "execution_count": 1,
   "metadata": {},
   "outputs": [
    {
     "name": "stderr",
     "output_type": "stream",
     "text": [
      "/Library/Frameworks/Python.framework/Versions/3.5/lib/python3.5/site-packages/sklearn/ensemble/weight_boosting.py:29: DeprecationWarning: numpy.core.umath_tests is an internal NumPy module and should not be imported. It will be removed in a future NumPy release.\n",
      "  from numpy.core.umath_tests import inner1d\n"
     ]
    }
   ],
   "source": [
    "from sklearn.linear_model import LogisticRegression\n",
    "from sklearn.ensemble import RandomForestClassifier\n",
    "import csv\n",
    "import numpy as np"
   ]
  },
  {
   "cell_type": "code",
   "execution_count": 5,
   "metadata": {},
   "outputs": [
    {
     "name": "stdout",
     "output_type": "stream",
     "text": [
      "Label distribution: (array([0, 1]), array([7024,  116]))\n"
     ]
    }
   ],
   "source": [
    "# Set up training data and training labels\n",
    "all_data = []\n",
    "names = []\n",
    "with open('SambanisImp.csv', newline='') as csvfile:\n",
    "    reader = csv.reader(csvfile, delimiter=',', quotechar='|')\n",
    "    for i, row in enumerate(reader):\n",
    "        if i == 0:\n",
    "            names = row\n",
    "        else:\n",
    "            all_data.append(row)\n",
    "all_data = np.array(all_data) # (7140, 281)\n",
    "\n",
    "feature_names = [\"warstds\", \"ager\", \"agexp\", \"anoc\", \"army85\", \"autch98\", \"auto4\",\n",
    "\"autonomy\", \"avgnabo\", \"centpol3\", \"coldwar\", \"decade1\", \"decade2\",\n",
    "\"decade3\", \"decade4\", \"dem\", \"dem4\", \"demch98\", \"dlang\", \"drel\",\n",
    "\"durable\", \"ef\", \"ef2\", \"ehet\", \"elfo\", \"elfo2\", \"etdo4590\",\n",
    "\"expgdp\", \"exrec\", \"fedpol3\", \"fuelexp\", \"gdpgrowth\", \"geo1\", \"geo2\",\n",
    "\"geo34\", \"geo57\", \"geo69\", \"geo8\", \"illiteracy\", \"incumb\", \"infant\",\n",
    "\"inst\", \"inst3\", \"life\", \"lmtnest\", \"ln_gdpen\", \"lpopns\", \"major\", \"manuexp\", \"milper\",\n",
    "\"mirps0\", \"mirps1\", \"mirps2\", \"mirps3\", \"nat_war\", \"ncontig\",\n",
    "\"nmgdp\", \"nmdp4_alt\", \"numlang\", \"nwstate\", \"oil\", \"p4mchg\",\n",
    "\"parcomp\", \"parreg\", \"part\", \"partfree\", \"plural\", \"plurrel\",\n",
    "\"pol4\", \"pol4m\", \"pol4sq\", \"polch98\", \"polcomp\", \"popdense\",\n",
    "\"presi\", \"pri\", \"proxregc\", \"ptime\", \"reg\", \"regd4_alt\", \"relfrac\", \"seceduc\",\n",
    "\"second\", \"semipol3\", \"sip2\", \"sxpnew\", \"sxpsq\", \"tnatwar\", \"trade\",\n",
    "\"warhist\", \"xconst\"]\n",
    "\n",
    "feature_indices = [names.index(feat) for feat in feature_names[1:]]\n",
    "features = all_data[:, feature_indices] # (7140, 90)\n",
    "features = features.astype(float)\n",
    "labels = all_data[:, names.index('warstds')] # (7140, )\n",
    "labels = [int(label) for label in labels]\n",
    "print(\"Label distribution: {}\".format(np.unique(labels, return_counts=True)))"
   ]
  },
  {
   "cell_type": "code",
   "execution_count": 3,
   "metadata": {},
   "outputs": [
    {
     "name": "stdout",
     "output_type": "stream",
     "text": [
      "Scores for Logistic Regression: 0.9837535014005602, Random Forest: 0.9841736694677871\n"
     ]
    }
   ],
   "source": [
    "log_reg = LogisticRegression().fit(features, labels)\n",
    "log_reg_score = log_reg.score(features, labels)\n",
    "rdm_for = RandomForestClassifier(max_depth=5).fit(features, labels)\n",
    "rdm_for_score = rdm_for.score(features, labels)\n",
    "print(\"Scores for Logistic Regression: {0}, Random Forest: {1}\".format(log_reg_score, rdm_for_score))"
   ]
  },
  {
   "cell_type": "code",
   "execution_count": null,
   "metadata": {},
   "outputs": [],
   "source": []
  }
 ],
 "metadata": {
  "kernelspec": {
   "display_name": "Python 3",
   "language": "python",
   "name": "python3"
  },
  "language_info": {
   "codemirror_mode": {
    "name": "ipython",
    "version": 3
   },
   "file_extension": ".py",
   "mimetype": "text/x-python",
   "name": "python",
   "nbconvert_exporter": "python",
   "pygments_lexer": "ipython3",
   "version": "3.5.2"
  }
 },
 "nbformat": 4,
 "nbformat_minor": 2
}

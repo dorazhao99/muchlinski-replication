{
 "cells": [
  {
   "cell_type": "code",
   "execution_count": 81,
   "metadata": {},
   "outputs": [],
   "source": [
    "from sklearn.linear_model import LogisticRegression\n",
    "from sklearn.ensemble import RandomForestClassifier\n",
    "import csv\n",
    "import numpy as np\n",
    "import pandas as pd"
   ]
  },
  {
   "cell_type": "markdown",
   "metadata": {},
   "source": [
    "# Data Setup"
   ]
  },
  {
   "cell_type": "code",
   "execution_count": 87,
   "metadata": {},
   "outputs": [
    {
     "output_type": "error",
     "ename": "FileNotFoundError",
     "evalue": "[Errno 2] File 1_tr.csv does not exist: '1_tr.csv'",
     "traceback": [
      "\u001b[0;31m---------------------------------------------------------------------------\u001b[0m",
      "\u001b[0;31mFileNotFoundError\u001b[0m                         Traceback (most recent call last)",
      "\u001b[0;32m<ipython-input-87-dec0994b2143>\u001b[0m in \u001b[0;36m<module>\u001b[0;34m\u001b[0m\n\u001b[1;32m      4\u001b[0m     \u001b[0;32mfor\u001b[0m \u001b[0mver\u001b[0m \u001b[0;32min\u001b[0m \u001b[0;34m[\u001b[0m\u001b[0;34m\"tr\"\u001b[0m\u001b[0;34m,\u001b[0m \u001b[0;34m\"test\"\u001b[0m\u001b[0;34m]\u001b[0m\u001b[0;34m:\u001b[0m\u001b[0;34m\u001b[0m\u001b[0;34m\u001b[0m\u001b[0m\n\u001b[1;32m      5\u001b[0m         \u001b[0mfilename\u001b[0m \u001b[0;34m=\u001b[0m \u001b[0;34mf\"{time}_{ver}\"\u001b[0m\u001b[0;34m\u001b[0m\u001b[0;34m\u001b[0m\u001b[0m\n\u001b[0;32m----> 6\u001b[0;31m         \u001b[0mdata\u001b[0m \u001b[0;34m=\u001b[0m \u001b[0mpd\u001b[0m\u001b[0;34m.\u001b[0m\u001b[0mread_csv\u001b[0m\u001b[0;34m(\u001b[0m\u001b[0;34mf\"{filename}.csv\"\u001b[0m\u001b[0;34m)\u001b[0m\u001b[0;34m\u001b[0m\u001b[0;34m\u001b[0m\u001b[0m\n\u001b[0m\u001b[1;32m      7\u001b[0m         \u001b[0mall_data\u001b[0m\u001b[0;34m[\u001b[0m\u001b[0mfilename\u001b[0m\u001b[0;34m]\u001b[0m \u001b[0;34m=\u001b[0m \u001b[0mdict\u001b[0m\u001b[0;34m(\u001b[0m\u001b[0;34m)\u001b[0m\u001b[0;34m\u001b[0m\u001b[0;34m\u001b[0m\u001b[0m\n\u001b[1;32m      8\u001b[0m         \u001b[0mall_data\u001b[0m\u001b[0;34m[\u001b[0m\u001b[0mfilename\u001b[0m\u001b[0;34m]\u001b[0m\u001b[0;34m[\u001b[0m\u001b[0;34m\"X\"\u001b[0m\u001b[0;34m]\u001b[0m \u001b[0;34m=\u001b[0m \u001b[0mdata\u001b[0m\u001b[0;34m.\u001b[0m\u001b[0mdrop\u001b[0m\u001b[0;34m(\u001b[0m\u001b[0mcolumns\u001b[0m\u001b[0;34m=\u001b[0m\u001b[0;34m[\u001b[0m\u001b[0;34m\"warstds\"\u001b[0m\u001b[0;34m]\u001b[0m\u001b[0;34m)\u001b[0m\u001b[0;34m\u001b[0m\u001b[0;34m\u001b[0m\u001b[0m\n",
      "\u001b[0;32m~/anaconda3/envs/algo-segregation/lib/python3.7/site-packages/pandas/io/parsers.py\u001b[0m in \u001b[0;36mparser_f\u001b[0;34m(filepath_or_buffer, sep, delimiter, header, names, index_col, usecols, squeeze, prefix, mangle_dupe_cols, dtype, engine, converters, true_values, false_values, skipinitialspace, skiprows, skipfooter, nrows, na_values, keep_default_na, na_filter, verbose, skip_blank_lines, parse_dates, infer_datetime_format, keep_date_col, date_parser, dayfirst, cache_dates, iterator, chunksize, compression, thousands, decimal, lineterminator, quotechar, quoting, doublequote, escapechar, comment, encoding, dialect, error_bad_lines, warn_bad_lines, delim_whitespace, low_memory, memory_map, float_precision)\u001b[0m\n\u001b[1;32m    674\u001b[0m         )\n\u001b[1;32m    675\u001b[0m \u001b[0;34m\u001b[0m\u001b[0m\n\u001b[0;32m--> 676\u001b[0;31m         \u001b[0;32mreturn\u001b[0m \u001b[0m_read\u001b[0m\u001b[0;34m(\u001b[0m\u001b[0mfilepath_or_buffer\u001b[0m\u001b[0;34m,\u001b[0m \u001b[0mkwds\u001b[0m\u001b[0;34m)\u001b[0m\u001b[0;34m\u001b[0m\u001b[0;34m\u001b[0m\u001b[0m\n\u001b[0m\u001b[1;32m    677\u001b[0m \u001b[0;34m\u001b[0m\u001b[0m\n\u001b[1;32m    678\u001b[0m     \u001b[0mparser_f\u001b[0m\u001b[0;34m.\u001b[0m\u001b[0m__name__\u001b[0m \u001b[0;34m=\u001b[0m \u001b[0mname\u001b[0m\u001b[0;34m\u001b[0m\u001b[0;34m\u001b[0m\u001b[0m\n",
      "\u001b[0;32m~/anaconda3/envs/algo-segregation/lib/python3.7/site-packages/pandas/io/parsers.py\u001b[0m in \u001b[0;36m_read\u001b[0;34m(filepath_or_buffer, kwds)\u001b[0m\n\u001b[1;32m    446\u001b[0m \u001b[0;34m\u001b[0m\u001b[0m\n\u001b[1;32m    447\u001b[0m     \u001b[0;31m# Create the parser.\u001b[0m\u001b[0;34m\u001b[0m\u001b[0;34m\u001b[0m\u001b[0;34m\u001b[0m\u001b[0m\n\u001b[0;32m--> 448\u001b[0;31m     \u001b[0mparser\u001b[0m \u001b[0;34m=\u001b[0m \u001b[0mTextFileReader\u001b[0m\u001b[0;34m(\u001b[0m\u001b[0mfp_or_buf\u001b[0m\u001b[0;34m,\u001b[0m \u001b[0;34m**\u001b[0m\u001b[0mkwds\u001b[0m\u001b[0;34m)\u001b[0m\u001b[0;34m\u001b[0m\u001b[0;34m\u001b[0m\u001b[0m\n\u001b[0m\u001b[1;32m    449\u001b[0m \u001b[0;34m\u001b[0m\u001b[0m\n\u001b[1;32m    450\u001b[0m     \u001b[0;32mif\u001b[0m \u001b[0mchunksize\u001b[0m \u001b[0;32mor\u001b[0m \u001b[0miterator\u001b[0m\u001b[0;34m:\u001b[0m\u001b[0;34m\u001b[0m\u001b[0;34m\u001b[0m\u001b[0m\n",
      "\u001b[0;32m~/anaconda3/envs/algo-segregation/lib/python3.7/site-packages/pandas/io/parsers.py\u001b[0m in \u001b[0;36m__init__\u001b[0;34m(self, f, engine, **kwds)\u001b[0m\n\u001b[1;32m    878\u001b[0m             \u001b[0mself\u001b[0m\u001b[0;34m.\u001b[0m\u001b[0moptions\u001b[0m\u001b[0;34m[\u001b[0m\u001b[0;34m\"has_index_names\"\u001b[0m\u001b[0;34m]\u001b[0m \u001b[0;34m=\u001b[0m \u001b[0mkwds\u001b[0m\u001b[0;34m[\u001b[0m\u001b[0;34m\"has_index_names\"\u001b[0m\u001b[0;34m]\u001b[0m\u001b[0;34m\u001b[0m\u001b[0;34m\u001b[0m\u001b[0m\n\u001b[1;32m    879\u001b[0m \u001b[0;34m\u001b[0m\u001b[0m\n\u001b[0;32m--> 880\u001b[0;31m         \u001b[0mself\u001b[0m\u001b[0;34m.\u001b[0m\u001b[0m_make_engine\u001b[0m\u001b[0;34m(\u001b[0m\u001b[0mself\u001b[0m\u001b[0;34m.\u001b[0m\u001b[0mengine\u001b[0m\u001b[0;34m)\u001b[0m\u001b[0;34m\u001b[0m\u001b[0;34m\u001b[0m\u001b[0m\n\u001b[0m\u001b[1;32m    881\u001b[0m \u001b[0;34m\u001b[0m\u001b[0m\n\u001b[1;32m    882\u001b[0m     \u001b[0;32mdef\u001b[0m \u001b[0mclose\u001b[0m\u001b[0;34m(\u001b[0m\u001b[0mself\u001b[0m\u001b[0;34m)\u001b[0m\u001b[0;34m:\u001b[0m\u001b[0;34m\u001b[0m\u001b[0;34m\u001b[0m\u001b[0m\n",
      "\u001b[0;32m~/anaconda3/envs/algo-segregation/lib/python3.7/site-packages/pandas/io/parsers.py\u001b[0m in \u001b[0;36m_make_engine\u001b[0;34m(self, engine)\u001b[0m\n\u001b[1;32m   1112\u001b[0m     \u001b[0;32mdef\u001b[0m \u001b[0m_make_engine\u001b[0m\u001b[0;34m(\u001b[0m\u001b[0mself\u001b[0m\u001b[0;34m,\u001b[0m \u001b[0mengine\u001b[0m\u001b[0;34m=\u001b[0m\u001b[0;34m\"c\"\u001b[0m\u001b[0;34m)\u001b[0m\u001b[0;34m:\u001b[0m\u001b[0;34m\u001b[0m\u001b[0;34m\u001b[0m\u001b[0m\n\u001b[1;32m   1113\u001b[0m         \u001b[0;32mif\u001b[0m \u001b[0mengine\u001b[0m \u001b[0;34m==\u001b[0m \u001b[0;34m\"c\"\u001b[0m\u001b[0;34m:\u001b[0m\u001b[0;34m\u001b[0m\u001b[0;34m\u001b[0m\u001b[0m\n\u001b[0;32m-> 1114\u001b[0;31m             \u001b[0mself\u001b[0m\u001b[0;34m.\u001b[0m\u001b[0m_engine\u001b[0m \u001b[0;34m=\u001b[0m \u001b[0mCParserWrapper\u001b[0m\u001b[0;34m(\u001b[0m\u001b[0mself\u001b[0m\u001b[0;34m.\u001b[0m\u001b[0mf\u001b[0m\u001b[0;34m,\u001b[0m \u001b[0;34m**\u001b[0m\u001b[0mself\u001b[0m\u001b[0;34m.\u001b[0m\u001b[0moptions\u001b[0m\u001b[0;34m)\u001b[0m\u001b[0;34m\u001b[0m\u001b[0;34m\u001b[0m\u001b[0m\n\u001b[0m\u001b[1;32m   1115\u001b[0m         \u001b[0;32melse\u001b[0m\u001b[0;34m:\u001b[0m\u001b[0;34m\u001b[0m\u001b[0;34m\u001b[0m\u001b[0m\n\u001b[1;32m   1116\u001b[0m             \u001b[0;32mif\u001b[0m \u001b[0mengine\u001b[0m \u001b[0;34m==\u001b[0m \u001b[0;34m\"python\"\u001b[0m\u001b[0;34m:\u001b[0m\u001b[0;34m\u001b[0m\u001b[0;34m\u001b[0m\u001b[0m\n",
      "\u001b[0;32m~/anaconda3/envs/algo-segregation/lib/python3.7/site-packages/pandas/io/parsers.py\u001b[0m in \u001b[0;36m__init__\u001b[0;34m(self, src, **kwds)\u001b[0m\n\u001b[1;32m   1889\u001b[0m         \u001b[0mkwds\u001b[0m\u001b[0;34m[\u001b[0m\u001b[0;34m\"usecols\"\u001b[0m\u001b[0;34m]\u001b[0m \u001b[0;34m=\u001b[0m \u001b[0mself\u001b[0m\u001b[0;34m.\u001b[0m\u001b[0musecols\u001b[0m\u001b[0;34m\u001b[0m\u001b[0;34m\u001b[0m\u001b[0m\n\u001b[1;32m   1890\u001b[0m \u001b[0;34m\u001b[0m\u001b[0m\n\u001b[0;32m-> 1891\u001b[0;31m         \u001b[0mself\u001b[0m\u001b[0;34m.\u001b[0m\u001b[0m_reader\u001b[0m \u001b[0;34m=\u001b[0m \u001b[0mparsers\u001b[0m\u001b[0;34m.\u001b[0m\u001b[0mTextReader\u001b[0m\u001b[0;34m(\u001b[0m\u001b[0msrc\u001b[0m\u001b[0;34m,\u001b[0m \u001b[0;34m**\u001b[0m\u001b[0mkwds\u001b[0m\u001b[0;34m)\u001b[0m\u001b[0;34m\u001b[0m\u001b[0;34m\u001b[0m\u001b[0m\n\u001b[0m\u001b[1;32m   1892\u001b[0m         \u001b[0mself\u001b[0m\u001b[0;34m.\u001b[0m\u001b[0munnamed_cols\u001b[0m \u001b[0;34m=\u001b[0m \u001b[0mself\u001b[0m\u001b[0;34m.\u001b[0m\u001b[0m_reader\u001b[0m\u001b[0;34m.\u001b[0m\u001b[0munnamed_cols\u001b[0m\u001b[0;34m\u001b[0m\u001b[0;34m\u001b[0m\u001b[0m\n\u001b[1;32m   1893\u001b[0m \u001b[0;34m\u001b[0m\u001b[0m\n",
      "\u001b[0;32mpandas/_libs/parsers.pyx\u001b[0m in \u001b[0;36mpandas._libs.parsers.TextReader.__cinit__\u001b[0;34m()\u001b[0m\n",
      "\u001b[0;32mpandas/_libs/parsers.pyx\u001b[0m in \u001b[0;36mpandas._libs.parsers.TextReader._setup_parser_source\u001b[0;34m()\u001b[0m\n",
      "\u001b[0;31mFileNotFoundError\u001b[0m: [Errno 2] File 1_tr.csv does not exist: '1_tr.csv'"
     ]
    }
   ],
   "source": [
    "all_data = dict()\n",
    "\n",
    "for time in [1, 2, 3, 4]:\n",
    "    for ver in [\"tr\", \"test\"]:\n",
    "        filename = f\"{time}_{ver}\"\n",
    "        data = pd.read_csv(f\"{filename}.csv\")\n",
    "        all_data[filename] = dict()\n",
    "        all_data[filename][\"X\"] = data.drop(columns=[\"warstds\"])\n",
    "        all_data[filename][\"y\"] = data[\"warstds\"]"
   ]
  },
  {
   "source": [
    "# Exp 1: train on > 1965, test on 1945-65"
   ],
   "cell_type": "markdown",
   "metadata": {}
  },
  {
   "source": [
    "train_X = pd.concat(\n",
    "    [all_data[f\"{all_times[1]}_tr\"][\"X\"],\n",
    "    all_data[f\"{all_times[1]}_test\"][\"X\"],\n",
    "    all_data[f\"{all_times[2]}_tr\"][\"X\"],\n",
    "    all_data[f\"{all_times[2]}_test\"][\"X\"]])\n",
    "\n",
    "train_y = pd.concat(\n",
    "    [all_data[f\"{all_times[1]}_tr\"][\"y\"],\n",
    "    all_data[f\"{all_times[1]}_test\"][\"y\"],\n",
    "    all_data[f\"{all_times[2]}_tr\"][\"y\"],\n",
    "    all_data[f\"{all_times[2]}_test\"][\"y\"]])\n",
    "\n",
    "test_X = pd.concat(\n",
    "    [all_data[f\"{all_times[0]}_tr\"][\"X\"],\n",
    "    all_data[f\"{all_times[0]}_test\"][\"X\"]])\n",
    "\n",
    "test_y = pd.concat(\n",
    "    [all_data[f\"{all_times[0]}_tr\"][\"y\"],\n",
    "    all_data[f\"{all_times[0]}_test\"][\"y\"]])\n",
    "\n",
    "log_reg = LogisticRegression().fit(train_X, train_y)\n",
    "log_reg_score = log_reg.score(test_X, test_y)\n",
    "rdm_for = RandomForestClassifier(max_depth=5).fit(train_X, train_y)\n",
    "rdm_for_score = rdm_for.score(test_X, test_y)\n",
    "print(\"Training Scores for Logistic Regression: {0}, Random Forest: {1}\\n\".format(log_reg_score, rdm_for_score))"
   ],
   "cell_type": "code",
   "metadata": {},
   "execution_count": 83,
   "outputs": [
    {
     "output_type": "stream",
     "name": "stdout",
     "text": [
      "Training Scores for Logistic Regression: 0.9834733893557422, Random Forest: 0.9955182072829132\n\n"
     ]
    }
   ]
  },
  {
   "source": [
    "# Exp 2: Testing \"in the middle\""
   ],
   "cell_type": "markdown",
   "metadata": {}
  },
  {
   "cell_type": "code",
   "execution_count": 84,
   "metadata": {},
   "outputs": [
    {
     "output_type": "stream",
     "name": "stdout",
     "text": [
      "Training Scores for Logistic Regression: 0.9836134453781512, Random Forest: 0.9949579831932773\n\n"
     ]
    }
   ],
   "source": [
    "train_X = pd.concat(\n",
    "    [all_data[f\"{all_times[0]}_tr\"][\"X\"],\n",
    "    all_data[f\"{all_times[0]}_test\"][\"X\"],\n",
    "    all_data[f\"{all_times[2]}_tr\"][\"X\"],\n",
    "    all_data[f\"{all_times[2]}_test\"][\"X\"]])\n",
    "\n",
    "train_y = pd.concat(\n",
    "    [all_data[f\"{all_times[0]}_tr\"][\"y\"],\n",
    "    all_data[f\"{all_times[0]}_test\"][\"y\"],\n",
    "    all_data[f\"{all_times[2]}_tr\"][\"y\"],\n",
    "    all_data[f\"{all_times[2]}_test\"][\"y\"]])\n",
    "\n",
    "test_X = pd.concat(\n",
    "    [all_data[f\"{all_times[1]}_tr\"][\"X\"],\n",
    "    all_data[f\"{all_times[1]}_test\"][\"X\"]])\n",
    "\n",
    "test_y = pd.concat(\n",
    "    [all_data[f\"{all_times[1]}_tr\"][\"y\"],\n",
    "    all_data[f\"{all_times[1]}_test\"][\"y\"]])\n",
    "\n",
    "log_reg = LogisticRegression().fit(train_X, train_y)\n",
    "log_reg_score = log_reg.score(test_X, test_y)\n",
    "rdm_for = RandomForestClassifier(max_depth=5).fit(train_X, train_y)\n",
    "rdm_for_score = rdm_for.score(test_X, test_y)\n",
    "print(\"Training Scores for Logistic Regression: {0}, Random Forest: {1}\\n\".format(log_reg_score, rdm_for_score))"
   ]
  },
  {
   "source": [
    "# Exp 3: Train on < 1985, test on 1985-2000"
   ],
   "cell_type": "markdown",
   "metadata": {}
  },
  {
   "cell_type": "code",
   "execution_count": 85,
   "metadata": {},
   "outputs": [
    {
     "output_type": "stream",
     "name": "stdout",
     "text": [
      "Training Scores for Logistic Regression: 0.9837535014005602, Random Forest: 0.9952380952380953\n\n"
     ]
    }
   ],
   "source": [
    "train_X = pd.concat(\n",
    "    [all_data[f\"{all_times[0]}_tr\"][\"X\"],\n",
    "    all_data[f\"{all_times[0]}_test\"][\"X\"],\n",
    "    all_data[f\"{all_times[1]}_tr\"][\"X\"],\n",
    "    all_data[f\"{all_times[1]}_test\"][\"X\"]])\n",
    "\n",
    "train_y = pd.concat(\n",
    "    [all_data[f\"{all_times[0]}_tr\"][\"y\"],\n",
    "    all_data[f\"{all_times[0]}_test\"][\"y\"],\n",
    "    all_data[f\"{all_times[1]}_tr\"][\"y\"],\n",
    "    all_data[f\"{all_times[1]}_test\"][\"y\"]])\n",
    "\n",
    "test_X = pd.concat(\n",
    "    [all_data[f\"{all_times[2]}_tr\"][\"X\"],\n",
    "    all_data[f\"{all_times[2]}_test\"][\"X\"]])\n",
    "\n",
    "test_y = pd.concat(\n",
    "    [all_data[f\"{all_times[2]}_tr\"][\"y\"],\n",
    "    all_data[f\"{all_times[2]}_test\"][\"y\"]])\n",
    "\n",
    "log_reg = LogisticRegression().fit(train_X, train_y)\n",
    "log_reg_score = log_reg.score(test_X, test_y)\n",
    "rdm_for = RandomForestClassifier(max_depth=5).fit(train_X, train_y)\n",
    "rdm_for_score = rdm_for.score(test_X, test_y)\n",
    "print(\"Training Scores for Logistic Regression: {0}, Random Forest: {1}\\n\".format(log_reg_score, rdm_for_score))"
   ]
  },
  {
   "cell_type": "code",
   "execution_count": 86,
   "metadata": {},
   "outputs": [
    {
     "output_type": "execute_result",
     "data": {
      "text/plain": [
       "      cowcode    year  ptime  yrint  autonomy         rf    popdense  \\\n",
       "0       700.0  1965.0  252.0   20.0       0.0   1.000000   17.045191   \n",
       "1       700.0  1966.0  264.0   21.0       0.0   1.000000   17.429300   \n",
       "2       700.0  1967.0  276.0   22.0       0.0   1.000000   17.827311   \n",
       "3       700.0  1968.0  288.0   23.0       0.0   1.000000   18.238970   \n",
       "4       700.0  1969.0  300.0   24.0       0.0   1.000000   18.664190   \n",
       "...       ...     ...    ...    ...       ...        ...         ...   \n",
       "5392    552.0  1996.0  280.0   30.0       0.0  59.000000   29.060539   \n",
       "5393    552.0  1997.0  292.0   31.0       0.0  59.000000  118.015104   \n",
       "5394    552.0  1998.0  304.0   32.0       0.0  59.000000  117.788461   \n",
       "5395    552.0  1999.0  316.0   33.0       0.0  59.000000  119.010582   \n",
       "5396    552.0  2000.0  328.0   34.0       0.0  35.445849  118.698387   \n",
       "\n",
       "        auto98    dem98     pol98  ...  decade1  decade2  decade3  decade4  \\\n",
       "0     7.000000  0.00000 -7.000000  ...      1.0      0.0      0.0      0.0   \n",
       "1     7.000000  0.00000 -7.000000  ...      1.0      0.0      0.0      0.0   \n",
       "2     7.000000  0.00000 -7.000000  ...      1.0      0.0      0.0      0.0   \n",
       "3     7.000000  0.00000 -7.000000  ...      1.0      0.0      0.0      0.0   \n",
       "4     7.000000  0.00000 -7.000000  ...      1.0      0.0      0.0      0.0   \n",
       "...        ...      ...       ...  ...      ...      ...      ...      ...   \n",
       "5392  6.000000  0.00000 -6.000000  ...      0.0      0.0      0.0      1.0   \n",
       "5393  6.000000  0.00000 -6.000000  ...      0.0      0.0      0.0      1.0   \n",
       "5394  5.000000  0.00000 -5.000000  ...      0.0      0.0      0.0      1.0   \n",
       "5395  3.962030  3.97096  0.008930  ...      0.0      0.0      0.0      1.0   \n",
       "5396  3.965177  3.97209  0.006913  ...      0.0      0.0      0.0      0.0   \n",
       "\n",
       "      independ        tip  anocracy      proxregc  sxpnew.2   sxpsq.2  \n",
       "0          1.0  37.000000       0.0  1.000000e+00  0.085721  0.085721  \n",
       "1          1.0  38.000000       0.0  2.500000e-01 -0.738777 -0.738777  \n",
       "2          1.0  39.000000       0.0  6.250000e-02 -0.959431 -0.959431  \n",
       "3          1.0  40.000000       0.0  1.562500e-02 -1.004694 -1.004694  \n",
       "4          1.0  41.000000       0.0  3.906250e-03 -0.989380 -0.989380  \n",
       "...        ...        ...       ...           ...       ...       ...  \n",
       "5392       1.0   8.000000       0.0  1.530000e-05  0.259141  0.259141  \n",
       "5393       1.0   9.000000       0.0  3.810000e-06  0.452436  0.452436  \n",
       "5394       1.0  10.000000       0.0  9.540000e-07  0.097356  0.097356  \n",
       "5395       1.0  11.000000       0.0  2.380000e-07  0.090076  0.090076  \n",
       "5396       1.0  43.684278       0.0  5.960000e-08  0.092205  0.092205  \n",
       "\n",
       "[5397 rows x 280 columns]"
      ],
      "text/html": "<div>\n<style scoped>\n    .dataframe tbody tr th:only-of-type {\n        vertical-align: middle;\n    }\n\n    .dataframe tbody tr th {\n        vertical-align: top;\n    }\n\n    .dataframe thead th {\n        text-align: right;\n    }\n</style>\n<table border=\"1\" class=\"dataframe\">\n  <thead>\n    <tr style=\"text-align: right;\">\n      <th></th>\n      <th>cowcode</th>\n      <th>year</th>\n      <th>ptime</th>\n      <th>yrint</th>\n      <th>autonomy</th>\n      <th>rf</th>\n      <th>popdense</th>\n      <th>auto98</th>\n      <th>dem98</th>\n      <th>pol98</th>\n      <th>...</th>\n      <th>decade1</th>\n      <th>decade2</th>\n      <th>decade3</th>\n      <th>decade4</th>\n      <th>independ</th>\n      <th>tip</th>\n      <th>anocracy</th>\n      <th>proxregc</th>\n      <th>sxpnew.2</th>\n      <th>sxpsq.2</th>\n    </tr>\n  </thead>\n  <tbody>\n    <tr>\n      <th>0</th>\n      <td>700.0</td>\n      <td>1965.0</td>\n      <td>252.0</td>\n      <td>20.0</td>\n      <td>0.0</td>\n      <td>1.000000</td>\n      <td>17.045191</td>\n      <td>7.000000</td>\n      <td>0.00000</td>\n      <td>-7.000000</td>\n      <td>...</td>\n      <td>1.0</td>\n      <td>0.0</td>\n      <td>0.0</td>\n      <td>0.0</td>\n      <td>1.0</td>\n      <td>37.000000</td>\n      <td>0.0</td>\n      <td>1.000000e+00</td>\n      <td>0.085721</td>\n      <td>0.085721</td>\n    </tr>\n    <tr>\n      <th>1</th>\n      <td>700.0</td>\n      <td>1966.0</td>\n      <td>264.0</td>\n      <td>21.0</td>\n      <td>0.0</td>\n      <td>1.000000</td>\n      <td>17.429300</td>\n      <td>7.000000</td>\n      <td>0.00000</td>\n      <td>-7.000000</td>\n      <td>...</td>\n      <td>1.0</td>\n      <td>0.0</td>\n      <td>0.0</td>\n      <td>0.0</td>\n      <td>1.0</td>\n      <td>38.000000</td>\n      <td>0.0</td>\n      <td>2.500000e-01</td>\n      <td>-0.738777</td>\n      <td>-0.738777</td>\n    </tr>\n    <tr>\n      <th>2</th>\n      <td>700.0</td>\n      <td>1967.0</td>\n      <td>276.0</td>\n      <td>22.0</td>\n      <td>0.0</td>\n      <td>1.000000</td>\n      <td>17.827311</td>\n      <td>7.000000</td>\n      <td>0.00000</td>\n      <td>-7.000000</td>\n      <td>...</td>\n      <td>1.0</td>\n      <td>0.0</td>\n      <td>0.0</td>\n      <td>0.0</td>\n      <td>1.0</td>\n      <td>39.000000</td>\n      <td>0.0</td>\n      <td>6.250000e-02</td>\n      <td>-0.959431</td>\n      <td>-0.959431</td>\n    </tr>\n    <tr>\n      <th>3</th>\n      <td>700.0</td>\n      <td>1968.0</td>\n      <td>288.0</td>\n      <td>23.0</td>\n      <td>0.0</td>\n      <td>1.000000</td>\n      <td>18.238970</td>\n      <td>7.000000</td>\n      <td>0.00000</td>\n      <td>-7.000000</td>\n      <td>...</td>\n      <td>1.0</td>\n      <td>0.0</td>\n      <td>0.0</td>\n      <td>0.0</td>\n      <td>1.0</td>\n      <td>40.000000</td>\n      <td>0.0</td>\n      <td>1.562500e-02</td>\n      <td>-1.004694</td>\n      <td>-1.004694</td>\n    </tr>\n    <tr>\n      <th>4</th>\n      <td>700.0</td>\n      <td>1969.0</td>\n      <td>300.0</td>\n      <td>24.0</td>\n      <td>0.0</td>\n      <td>1.000000</td>\n      <td>18.664190</td>\n      <td>7.000000</td>\n      <td>0.00000</td>\n      <td>-7.000000</td>\n      <td>...</td>\n      <td>1.0</td>\n      <td>0.0</td>\n      <td>0.0</td>\n      <td>0.0</td>\n      <td>1.0</td>\n      <td>41.000000</td>\n      <td>0.0</td>\n      <td>3.906250e-03</td>\n      <td>-0.989380</td>\n      <td>-0.989380</td>\n    </tr>\n    <tr>\n      <th>...</th>\n      <td>...</td>\n      <td>...</td>\n      <td>...</td>\n      <td>...</td>\n      <td>...</td>\n      <td>...</td>\n      <td>...</td>\n      <td>...</td>\n      <td>...</td>\n      <td>...</td>\n      <td>...</td>\n      <td>...</td>\n      <td>...</td>\n      <td>...</td>\n      <td>...</td>\n      <td>...</td>\n      <td>...</td>\n      <td>...</td>\n      <td>...</td>\n      <td>...</td>\n      <td>...</td>\n    </tr>\n    <tr>\n      <th>5392</th>\n      <td>552.0</td>\n      <td>1996.0</td>\n      <td>280.0</td>\n      <td>30.0</td>\n      <td>0.0</td>\n      <td>59.000000</td>\n      <td>29.060539</td>\n      <td>6.000000</td>\n      <td>0.00000</td>\n      <td>-6.000000</td>\n      <td>...</td>\n      <td>0.0</td>\n      <td>0.0</td>\n      <td>0.0</td>\n      <td>1.0</td>\n      <td>1.0</td>\n      <td>8.000000</td>\n      <td>0.0</td>\n      <td>1.530000e-05</td>\n      <td>0.259141</td>\n      <td>0.259141</td>\n    </tr>\n    <tr>\n      <th>5393</th>\n      <td>552.0</td>\n      <td>1997.0</td>\n      <td>292.0</td>\n      <td>31.0</td>\n      <td>0.0</td>\n      <td>59.000000</td>\n      <td>118.015104</td>\n      <td>6.000000</td>\n      <td>0.00000</td>\n      <td>-6.000000</td>\n      <td>...</td>\n      <td>0.0</td>\n      <td>0.0</td>\n      <td>0.0</td>\n      <td>1.0</td>\n      <td>1.0</td>\n      <td>9.000000</td>\n      <td>0.0</td>\n      <td>3.810000e-06</td>\n      <td>0.452436</td>\n      <td>0.452436</td>\n    </tr>\n    <tr>\n      <th>5394</th>\n      <td>552.0</td>\n      <td>1998.0</td>\n      <td>304.0</td>\n      <td>32.0</td>\n      <td>0.0</td>\n      <td>59.000000</td>\n      <td>117.788461</td>\n      <td>5.000000</td>\n      <td>0.00000</td>\n      <td>-5.000000</td>\n      <td>...</td>\n      <td>0.0</td>\n      <td>0.0</td>\n      <td>0.0</td>\n      <td>1.0</td>\n      <td>1.0</td>\n      <td>10.000000</td>\n      <td>0.0</td>\n      <td>9.540000e-07</td>\n      <td>0.097356</td>\n      <td>0.097356</td>\n    </tr>\n    <tr>\n      <th>5395</th>\n      <td>552.0</td>\n      <td>1999.0</td>\n      <td>316.0</td>\n      <td>33.0</td>\n      <td>0.0</td>\n      <td>59.000000</td>\n      <td>119.010582</td>\n      <td>3.962030</td>\n      <td>3.97096</td>\n      <td>0.008930</td>\n      <td>...</td>\n      <td>0.0</td>\n      <td>0.0</td>\n      <td>0.0</td>\n      <td>1.0</td>\n      <td>1.0</td>\n      <td>11.000000</td>\n      <td>0.0</td>\n      <td>2.380000e-07</td>\n      <td>0.090076</td>\n      <td>0.090076</td>\n    </tr>\n    <tr>\n      <th>5396</th>\n      <td>552.0</td>\n      <td>2000.0</td>\n      <td>328.0</td>\n      <td>34.0</td>\n      <td>0.0</td>\n      <td>35.445849</td>\n      <td>118.698387</td>\n      <td>3.965177</td>\n      <td>3.97209</td>\n      <td>0.006913</td>\n      <td>...</td>\n      <td>0.0</td>\n      <td>0.0</td>\n      <td>0.0</td>\n      <td>0.0</td>\n      <td>1.0</td>\n      <td>43.684278</td>\n      <td>0.0</td>\n      <td>5.960000e-08</td>\n      <td>0.092205</td>\n      <td>0.092205</td>\n    </tr>\n  </tbody>\n</table>\n<p>5397 rows × 280 columns</p>\n</div>"
     },
     "metadata": {},
     "execution_count": 86
    }
   ],
   "source": [
    "all_data[\"1945-65_tr\"][\"X\"]"
   ]
  },
  {
   "cell_type": "code",
   "execution_count": null,
   "metadata": {},
   "outputs": [],
   "source": []
  }
 ],
 "metadata": {
  "kernelspec": {
   "display_name": "Python 3",
   "language": "python",
   "name": "python3"
  },
  "language_info": {
   "codemirror_mode": {
    "name": "ipython",
    "version": 3
   },
   "file_extension": ".py",
   "mimetype": "text/x-python",
   "name": "python",
   "nbconvert_exporter": "python",
   "pygments_lexer": "ipython3",
   "version": "3.7.7-final"
  }
 },
 "nbformat": 4,
 "nbformat_minor": 2
}
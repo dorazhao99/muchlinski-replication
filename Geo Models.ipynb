{
 "cells": [
  {
   "cell_type": "code",
   "execution_count": 27,
   "metadata": {},
   "outputs": [],
   "source": [
    "from sklearn.linear_model import LogisticRegression\n",
    "from sklearn.ensemble import RandomForestClassifier\n",
    "import csv\n",
    "import numpy as np\n",
    "from sklearn.metrics import f1_score, roc_auc_score"
   ]
  },
  {
   "cell_type": "markdown",
   "metadata": {},
   "source": [
    "### Data Setup"
   ]
  },
  {
   "cell_type": "code",
   "execution_count": 12,
   "metadata": {},
   "outputs": [],
   "source": [
    "all_continents = ['afr', 'am', 'asia', 'eur', 'me']\n",
    "all_data = {}\n",
    "\n",
    "feature_names = [\"warstds\", \"ager\", \"agexp\", \"anoc\", \"army85\", \"autch98\", \"auto4\",\n",
    "\"autonomy\", \"avgnabo\", \"centpol3\", \"coldwar\", \"decade1\", \"decade2\",\n",
    "\"decade3\", \"decade4\", \"dem\", \"dem4\", \"demch98\", \"dlang\", \"drel\",\n",
    "\"durable\", \"ef\", \"ef2\", \"ehet\", \"elfo\", \"elfo2\", \"etdo4590\",\n",
    "\"expgdp\", \"exrec\", \"fedpol3\", \"fuelexp\", \"gdpgrowth\", \"geo1\", \"geo2\",\n",
    "\"geo34\", \"geo57\", \"geo69\", \"geo8\", \"illiteracy\", \"incumb\", \"infant\",\n",
    "\"inst\", \"inst3\", \"life\", \"lmtnest\", \"ln_gdpen\", \"lpopns\", \"major\", \"manuexp\", \"milper\",\n",
    "\"mirps0\", \"mirps1\", \"mirps2\", \"mirps3\", \"nat_war\", \"ncontig\",\n",
    "\"nmgdp\", \"nmdp4_alt\", \"numlang\", \"nwstate\", \"oil\", \"p4mchg\",\n",
    "\"parcomp\", \"parreg\", \"part\", \"partfree\", \"plural\", \"plurrel\",\n",
    "\"pol4\", \"pol4m\", \"pol4sq\", \"polch98\", \"polcomp\", \"popdense\",\n",
    "\"presi\", \"pri\", \"proxregc\", \"ptime\", \"reg\", \"regd4_alt\", \"relfrac\", \"seceduc\",\n",
    "\"second\", \"semipol3\", \"sip2\", \"sxpnew\", \"sxpsq\", \"tnatwar\", \"trade\",\n",
    "\"warhist\", \"xconst\"]\n",
    "\n",
    "for cont in all_continents:\n",
    "    for ver in ['tr', 'test']:\n",
    "        data = []\n",
    "        names = []\n",
    "        with open('geo_data/{0}_{1}.csv'.format(cont, ver), newline='') as csvfile:\n",
    "            reader = csv.reader(csvfile, delimiter=',', quotechar='|')\n",
    "            for i, row in enumerate(reader):\n",
    "                if i == 0:\n",
    "                    names = row\n",
    "                else:\n",
    "                    data.append(row)\n",
    "        data = np.array(data)\n",
    "        feature_indices = [names.index(feat) for feat in feature_names[1:]]\n",
    "        features = data[:, feature_indices]\n",
    "        features = features.astype(float)\n",
    "        labels = data[:, names.index('warstds')]\n",
    "        labels = [int(float(label)) for label in labels]\n",
    "        all_data['{0}_{1}'.format(cont, ver)] = [features, labels]\n",
    "        "
   ]
  },
  {
   "cell_type": "code",
   "execution_count": 67,
   "metadata": {},
   "outputs": [],
   "source": [
    "# hyperparameters\n",
    "rdm_depth = 5\n",
    "reg = 100"
   ]
  },
  {
   "cell_type": "markdown",
   "metadata": {},
   "source": [
    "### Baseline: Train on all continents, disaggregated test results on each continent"
   ]
  },
  {
   "cell_type": "code",
   "execution_count": 74,
   "metadata": {},
   "outputs": [
    {
     "name": "stdout",
     "output_type": "stream",
     "text": [
      "Training Scores for Logistic Regression: 1.0, Random Forest: 0.9906976744186047\n",
      "\n",
      "Test on eur, LR: 0.97603, RF: 0.99782\n",
      "F1 for LR: 0.0, RF: 0.0\n",
      "AUC for LR: 0.9541, RF: 0.9782\n",
      "\n",
      "Test on asia, LR: 0.89896, RF: 0.98446\n",
      "F1 for LR: 0.0488, RF: 0.0\n",
      "AUC for LR: 0.6338, RF: 0.6737\n",
      "\n",
      "Test on afr, LR: 0.94854, RF: 0.97599\n",
      "F1 for LR: 0.0, RF: 0.0\n",
      "AUC for LR: 0.4365, RF: 0.7036\n",
      "\n",
      "Test on am, LR: 0.94037, RF: 0.98624\n",
      "F1 for LR: 0.0, RF: 0.0\n",
      "AUC for LR: 0.5729, RF: 0.7671\n",
      "\n",
      "Test on me, LR: 1.0, RF: 0.9907\n",
      "F1 for LR: 1.0, RF: 0.6667\n",
      "AUC for LR: 1.0, RF: 1.0\n",
      "\n"
     ]
    },
    {
     "name": "stderr",
     "output_type": "stream",
     "text": [
      "/Library/Frameworks/Python.framework/Versions/3.5/lib/python3.5/site-packages/sklearn/metrics/classification.py:1135: UndefinedMetricWarning: F-score is ill-defined and being set to 0.0 due to no predicted samples.\n",
      "  'precision', 'predicted', average, warn_for)\n"
     ]
    }
   ],
   "source": [
    "# train on all data\n",
    "all_train_features = []\n",
    "all_train_labels = []\n",
    "for key in all_data.keys():\n",
    "    if 'tr' in key:\n",
    "        all_train_features.append(all_data[key][0])\n",
    "        all_train_labels.append(all_data[key][1])\n",
    "all_train_features = np.concatenate(all_train_features, axis=0)\n",
    "all_train_labels = np.concatenate(all_train_labels, axis=0)\n",
    "\n",
    "log_reg = LogisticRegression(C=reg, class_weight='balanced').fit(features, labels)\n",
    "log_reg_score = log_reg.score(features, labels)\n",
    "rdm_for = RandomForestClassifier(max_depth=rdm_depth, class_weight='balanced').fit(features, labels)\n",
    "rdm_for_score = rdm_for.score(features, labels)\n",
    "print(\"Training Scores for Logistic Regression: {0}, Random Forest: {1}\\n\".format(log_reg_score, rdm_for_score))\n",
    "baseline_accs = []\n",
    "\n",
    "for key in all_data.keys():\n",
    "    if 'test' in key:\n",
    "        test_features = all_data[key][0]\n",
    "        test_labels = all_data[key][1]\n",
    "        log_reg_score = log_reg.score(test_features, test_labels)\n",
    "        rdm_for_score = rdm_for.score(test_features, test_labels)\n",
    "        log_reg_f1score = f1_score(test_labels, log_reg.predict(test_features))\n",
    "        rdm_for_f1score = f1_score(test_labels, rdm_for.predict(test_features))\n",
    "        log_reg_auc = roc_auc_score(test_labels, log_reg.predict_proba(test_features)[:, 1])\n",
    "        rdm_for_auc = roc_auc_score(test_labels, rdm_for.predict_proba(test_features)[:, 1])\n",
    "        baseline_accs.append([log_reg_auc, rdm_for_auc])\n",
    "        print(\"Test on {0}, LR: {1}, RF: {2}\".format(key.split('_')[0], round(log_reg_score, 5), round(rdm_for_score, 5)))\n",
    "        print(\"F1 for LR: {0}, RF: {1}\".format(round(log_reg_f1score, 4), round(rdm_for_f1score, 4)))\n",
    "        print(\"AUC for LR: {0}, RF: {1}\\n\".format(round(log_reg_auc, 4), round(rdm_for_auc, 4)))\n",
    "        "
   ]
  },
  {
   "cell_type": "markdown",
   "metadata": {},
   "source": [
    "### Exp: Train on all continents except for x, and then test on x"
   ]
  },
  {
   "cell_type": "code",
   "execution_count": 75,
   "metadata": {},
   "outputs": [
    {
     "name": "stdout",
     "output_type": "stream",
     "text": [
      "Extrap to eur, LR: 0.9695, RF: 0.99782\n",
      "F1 for LR: 0.0, RF: 0.0\n",
      "AUC for LR: 0.9432, RF: 0.4509\n",
      "(array([0, 1]), array([458,   1]))\n",
      "\n",
      "Extrap to asia, LR: 0.86788, RF: 0.98446\n",
      "F1 for LR: 0.0377, RF: 0.0\n",
      "AUC for LR: 0.6623, RF: 0.7596\n",
      "(array([0, 1]), array([380,   6]))\n",
      "\n",
      "Extrap to afr, LR: 0.95026, RF: 0.97599\n",
      "F1 for LR: 0.0, RF: 0.0\n",
      "AUC for LR: 0.4178, RF: 0.6913\n",
      "(array([0, 1]), array([569,  14]))\n",
      "\n",
      "Extrap to am, LR: 0.93119, RF: 0.98624\n",
      "F1 for LR: 0.0625, RF: 0.0\n",
      "AUC for LR: 0.5795, RF: 0.8798\n",
      "(array([0, 1]), array([430,   6]))\n",
      "\n",
      "Extrap to me, LR: 1.0, RF: 0.9907\n",
      "F1 for LR: 1.0, RF: 0.6667\n",
      "AUC for LR: 1.0, RF: 0.9994\n",
      "(array([0, 1]), array([211,   4]))\n",
      "\n"
     ]
    },
    {
     "name": "stderr",
     "output_type": "stream",
     "text": [
      "/Library/Frameworks/Python.framework/Versions/3.5/lib/python3.5/site-packages/sklearn/metrics/classification.py:1135: UndefinedMetricWarning: F-score is ill-defined and being set to 0.0 due to no predicted samples.\n",
      "  'precision', 'predicted', average, warn_for)\n",
      "/Library/Frameworks/Python.framework/Versions/3.5/lib/python3.5/site-packages/sklearn/metrics/classification.py:1135: UndefinedMetricWarning: F-score is ill-defined and being set to 0.0 due to no predicted samples.\n",
      "  'precision', 'predicted', average, warn_for)\n",
      "/Library/Frameworks/Python.framework/Versions/3.5/lib/python3.5/site-packages/sklearn/metrics/classification.py:1135: UndefinedMetricWarning: F-score is ill-defined and being set to 0.0 due to no predicted samples.\n",
      "  'precision', 'predicted', average, warn_for)\n",
      "/Library/Frameworks/Python.framework/Versions/3.5/lib/python3.5/site-packages/sklearn/metrics/classification.py:1135: UndefinedMetricWarning: F-score is ill-defined and being set to 0.0 due to no predicted samples.\n",
      "  'precision', 'predicted', average, warn_for)\n"
     ]
    }
   ],
   "source": [
    "oos_accs = []\n",
    "for key in all_data.keys():\n",
    "    if 'test' in key:\n",
    "        cont = key.split('_')[0]\n",
    "        \n",
    "        train_continents = all_continents.copy()\n",
    "        train_continents.remove(cont)\n",
    "        all_train_features = []\n",
    "        all_train_labels = []\n",
    "        for t_cont in train_continents:\n",
    "            all_train_features.append(all_data['{0}_tr'.format(t_cont)][0])\n",
    "            all_train_labels.append(all_data['{0}_tr'.format(t_cont)][1])\n",
    "        all_train_features = np.concatenate(all_train_features, axis=0)\n",
    "        all_train_labels = np.concatenate(all_train_labels, axis=0)\n",
    "\n",
    "        log_reg = LogisticRegression(C=reg, class_weight='balanced').fit(features, labels)\n",
    "        rdm_for = RandomForestClassifier(max_depth=rdm_depth, class_weight='balanced').fit(features, labels)\n",
    "        \n",
    "        test_features = all_data[key][0]\n",
    "        test_labels = all_data[key][1]\n",
    "        log_reg_score = log_reg.score(test_features, test_labels)\n",
    "        rdm_for_score = rdm_for.score(test_features, test_labels)\n",
    "        log_reg_f1score = f1_score(test_labels, log_reg.predict(test_features))\n",
    "        rdm_for_f1score = f1_score(test_labels, rdm_for.predict(test_features))\n",
    "        log_reg_auc = roc_auc_score(test_labels, log_reg.predict_proba(test_features)[:, 1])\n",
    "        rdm_for_auc = roc_auc_score(test_labels, rdm_for.predict_proba(test_features)[:, 1])\n",
    "        oos_accs.append([log_reg_auc, rdm_for_auc])\n",
    "        \n",
    "        print(\"Extrap to {0}, LR: {1}, RF: {2}\".format(cont, round(log_reg_score, 5), round(rdm_for_score, 5)))\n",
    "        print(\"F1 for LR: {0}, RF: {1}\".format(round(log_reg_f1score, 4), round(rdm_for_f1score, 4)))\n",
    "        print(\"AUC for LR: {0}, RF: {1}\".format(round(log_reg_auc, 4), round(rdm_for_auc, 4)))\n",
    "        print(np.unique(test_labels, return_counts=True))\n",
    "#         print(np.unique(log_reg.predict(test_features), return_counts=True))\n",
    "#         print(np.unique(rdm_for.predict(test_features), return_counts=True))\n",
    "        print()"
   ]
  },
  {
   "cell_type": "markdown",
   "metadata": {},
   "source": [
    "### Compare Accuracy Drops"
   ]
  },
  {
   "cell_type": "code",
   "execution_count": 76,
   "metadata": {},
   "outputs": [
    {
     "name": "stdout",
     "output_type": "stream",
     "text": [
      "Drop in eur: LR: 0.0109, RF: 0.5273\n",
      "Drop in asia: LR: -0.0285, RF: -0.086\n",
      "Drop in afr: LR: 0.0187, RF: 0.0122\n",
      "Drop in am: LR: -0.0066, RF: -0.1128\n",
      "Drop in me: LR: 0.0, RF: 0.0006\n"
     ]
    }
   ],
   "source": [
    "i = 0\n",
    "for key in all_data.keys():\n",
    "    if 'test' in key:\n",
    "        cont = key.split('_')[0]\n",
    "        print(\"Drop in {0}: LR: {1}, RF: {2}\".format(cont, round(baseline_accs[i][0] - oos_accs[i][0], 4), round(baseline_accs[i][1] - oos_accs[i][1], 4)))\n",
    "        i += 1"
   ]
  },
  {
   "cell_type": "code",
   "execution_count": null,
   "metadata": {},
   "outputs": [],
   "source": []
  },
  {
   "cell_type": "code",
   "execution_count": null,
   "metadata": {},
   "outputs": [],
   "source": []
  }
 ],
 "metadata": {
  "kernelspec": {
   "display_name": "Python 3",
   "language": "python",
   "name": "python3"
  },
  "language_info": {
   "codemirror_mode": {
    "name": "ipython",
    "version": 3
   },
   "file_extension": ".py",
   "mimetype": "text/x-python",
   "name": "python",
   "nbconvert_exporter": "python",
   "pygments_lexer": "ipython3",
   "version": "3.5.2"
  }
 },
 "nbformat": 4,
 "nbformat_minor": 2
}
